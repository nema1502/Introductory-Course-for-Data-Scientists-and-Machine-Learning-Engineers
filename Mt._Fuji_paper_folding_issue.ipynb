{
 "cells": [
  {
   "cell_type": "markdown",
   "id": "e87d57c0-6944-4e37-aa4b-d59a12c11077",
   "metadata": {},
   "source": [
    "# Problema de plegado de papel en el monte Fuji\n",
    "En la tarea \"Probemos Python\", los alumnos implementaron \"un programa para calcular el grosor de una hoja de papel doblada 43 veces\" y confirmaron que doblándola 43 veces se llegaría a la luna.\n",
    "\n",
    "Ahora implementemos un programa que calcule 'cuántos pliegues se necesitan para alcanzar el grosor deseado'.\n"
   ]
  },
  {
   "cell_type": "markdown",
   "id": "a45127fd-7f1d-4e3a-86f2-228426c1e448",
   "metadata": {},
   "source": [
    "### Pregunta 1 ¿Cuántas veces hay que doblarlo para que pase por encima de Mt."
   ]
  },
  {
   "cell_type": "code",
   "execution_count": 2,
   "id": "4e03c780-3d23-4d3c-8410-28ec21e9773b",
   "metadata": {},
   "outputs": [
    {
     "name": "stdout",
     "output_type": "stream",
     "text": [
      "Se necesitan 26 dobleces para superar el Monte Fuji.\n"
     ]
    }
   ],
   "source": [
    "t0 = 0.00008  # Grosor inicial en metros\n",
    "altura_objetivo = 3776  # Altura del Monte Fuji en metros\n",
    "n = 0\n",
    "grosor_actual = t0\n",
    "\n",
    "while grosor_actual <= altura_objetivo:\n",
    "    grosor_actual *= 2\n",
    "    n += 1\n",
    "\n",
    "print(f\"Se necesitan {n} dobleces para superar el Monte Fuji.\")"
   ]
  },
  {
   "cell_type": "markdown",
   "id": "e42e2b05-c8a3-44b0-9a33-eb6e99af203d",
   "metadata": {},
   "source": [
    "### Pregunta 2 Funciones para espesores arbitrarios.\n"
   ]
  },
  {
   "cell_type": "code",
   "execution_count": 3,
   "id": "46ace4f6-eade-48fc-aaef-ca2f9fbb42d6",
   "metadata": {},
   "outputs": [
    {
     "name": "stdout",
     "output_type": "stream",
     "text": [
      "Dobleces necesarios para la estrella más cercana: 69\n"
     ]
    }
   ],
   "source": [
    "def calcular_pliegues(altura_objetivo, grosor_inicial=0.00008):\n",
    "    n = 0\n",
    "    grosor_actual = grosor_inicial\n",
    "    while grosor_actual <= altura_objetivo:\n",
    "        grosor_actual *= 2\n",
    "        n += 1\n",
    "    return n\n",
    "\n",
    "# Ejemplo: Cálculo para Próxima Centauri\n",
    "distancia_estrella = 4.0175e16  # Distancia en metros\n",
    "pliegues_estrella = calcular_pliegues(distancia_estrella)\n",
    "print(f\"Dobleces necesarios para la estrella más cercana: {pliegues_estrella}\")"
   ]
  },
  {
   "cell_type": "markdown",
   "id": "b364c899-d01d-4e3f-aec1-a64e1d0a59c7",
   "metadata": {},
   "source": [
    "### Problema 3 Longitud de papel requerida\n"
   ]
  },
  {
   "cell_type": "code",
   "execution_count": 4,
   "id": "8355fa28-1ed6-4c53-8e05-4f6b6707216f",
   "metadata": {},
   "outputs": [
    {
     "name": "stdout",
     "output_type": "stream",
     "text": [
      "Longitud para Monte Fuji: 188646348487.24017 metros\n",
      "Longitud para la Luna: 3.240919444170781e+21 metros\n",
      "Longitud para la estrella: 1.4595803601100348e+37 metros\n"
     ]
    }
   ],
   "source": [
    "import math\n",
    "\n",
    "def calcular_longitud_papel(altura_objetivo, grosor_inicial=0.00008):\n",
    "    n = calcular_pliegues(altura_objetivo, grosor_inicial)\n",
    "    termino = (2**n + 4) * (2**n - 1)\n",
    "    longitud = (math.pi * grosor_inicial / 6) * termino\n",
    "    return longitud\n",
    "\n",
    "# Cálculos para Monte Fuji, Luna y Próxima Centauri\n",
    "longitud_fuji = calcular_longitud_papel(3776)\n",
    "longitud_luna = calcular_longitud_papel(384400000)  # 384,400 km en metros\n",
    "longitud_estrella = calcular_longitud_papel(4.0175e16)\n",
    "\n",
    "print(f\"Longitud para Monte Fuji: {longitud_fuji} metros\")\n",
    "print(f\"Longitud para la Luna: {longitud_luna} metros\")\n",
    "print(f\"Longitud para la estrella: {longitud_estrella} metros\")"
   ]
  },
  {
   "cell_type": "code",
   "execution_count": null,
   "id": "99e76542-3cea-40c7-916d-db23faeb37ad",
   "metadata": {},
   "outputs": [],
   "source": []
  }
 ],
 "metadata": {
  "kernelspec": {
   "display_name": "Python 3 (ipykernel)",
   "language": "python",
   "name": "python3"
  },
  "language_info": {
   "codemirror_mode": {
    "name": "ipython",
    "version": 3
   },
   "file_extension": ".py",
   "mimetype": "text/x-python",
   "name": "python",
   "nbconvert_exporter": "python",
   "pygments_lexer": "ipython3",
   "version": "3.8.20"
  }
 },
 "nbformat": 4,
 "nbformat_minor": 5
}
